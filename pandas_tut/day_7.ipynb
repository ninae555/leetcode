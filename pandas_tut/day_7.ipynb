{
 "cells": [
  {
   "cell_type": "code",
   "execution_count": null,
   "metadata": {},
   "outputs": [],
   "source": [
    "def count_occurrences(files: pd.DataFrame) -> pd.DataFrame:\n",
    "    bull_count = files['content'].apply(lambda text: any(word.lower() == 'bull' for word in text.split())).sum()\n",
    "    bear_count = files['content'].apply(lambda text: any(word.lower() == 'bear' for word in text.split())).sum()\n",
    "    \n",
    "    return pd.DataFrame({\n",
    "        'word': ['bull', 'bear'],\n",
    "        'count': [bull_count, bear_count]\n",
    "    })\n"
   ]
  }
 ],
 "metadata": {
  "language_info": {
   "name": "python"
  }
 },
 "nbformat": 4,
 "nbformat_minor": 2
}
