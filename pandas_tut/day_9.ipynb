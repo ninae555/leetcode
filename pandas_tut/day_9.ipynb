{
 "cells": [
  {
   "cell_type": "markdown",
   "id": "6fd9bf8b",
   "metadata": {},
   "source": [
    "Easy Problemsets review"
   ]
  },
  {
   "cell_type": "code",
   "execution_count": 1,
   "id": "d0baaf99",
   "metadata": {},
   "outputs": [],
   "source": [
    "import pandas as pd\n",
    "\n",
    "# Create the World DataFrame\n",
    "data = {\n",
    "    'name': ['Afghanistan', 'Albania', 'Algeria', 'Andorra', 'Angola'],\n",
    "    'continent': ['Asia', 'Europe', 'Africa', 'Europe', 'Africa'],\n",
    "    'area': [652230, 28748, 2381741, 468, 1246700],\n",
    "    'population': [25500100, 2831741, 37100000, 78115, 20609294],\n",
    "    'gdp': [20343000000, 12960000000, 188681000000, 3712000000, 100990000000]\n",
    "}\n",
    "\n",
    "world = pd.DataFrame(data)"
   ]
  },
  {
   "cell_type": "code",
   "execution_count": 2,
   "id": "7d9d9bf2",
   "metadata": {},
   "outputs": [],
   "source": [
    "import pandas as pd\n",
    "\n",
    "def big_countries(world: pd.DataFrame) -> pd.DataFrame:\n",
    "    return world[(world['area'] >= 3000000) | (world['population'] >= 25000000)][['name', 'population', 'area']]\n"
   ]
  },
  {
   "cell_type": "markdown",
   "id": "81add531",
   "metadata": {},
   "source": [
    "This creates a Boolean Series for each condition.\n",
    "\n",
    "world['area'] >= 3000000 → True where area is at least 3 million.\n",
    "\n",
    "world['population'] >= 25000000 → True where population is at least 25 million.\n",
    "\n",
    "The | is a bitwise OR operator, meaning either condition can be true.\n",
    "\n",
    "Parentheses () are required here to group each condition, because | has lower precedence than comparisons like >=.\n",
    "\n",
    "\n",
    "Then its saying: \n",
    "Filter world[...] → Rows A and B remain\n",
    "\n",
    "Then [['name', 'population', 'area']] → Select just those columns\n"
   ]
  },
  {
   "cell_type": "code",
   "execution_count": 4,
   "id": "a02f6327",
   "metadata": {},
   "outputs": [
    {
     "name": "stdout",
     "output_type": "stream",
     "text": [
      "          name  population     area\n",
      "0  Afghanistan    25500100   652230\n",
      "2      Algeria    37100000  2381741\n"
     ]
    }
   ],
   "source": [
    "result = big_countries(world)\n",
    "print(result)"
   ]
  },
  {
   "cell_type": "code",
   "execution_count": 6,
   "id": "3e093185",
   "metadata": {},
   "outputs": [],
   "source": [
    "data = {\n",
    "    'product_id': [0,1,2,3,4],\n",
    "    'low_fats': ['Y', 'Y', 'N', 'Y', 'N'],\n",
    "    'recyclable': ['N', 'Y', 'Y', 'Y', 'N']\n",
    "}\n",
    "\n",
    "products = pd.DataFrame(data)"
   ]
  },
  {
   "cell_type": "code",
   "execution_count": 7,
   "id": "bb42053f",
   "metadata": {},
   "outputs": [],
   "source": [
    "import pandas as pd\n",
    "\n",
    "def find_products(products: pd.DataFrame) -> pd.DataFrame:\n",
    "    return products[(products['low_fats'] == 'Y') & (products['recyclable'] == 'Y')][['product_id']]\n",
    "    "
   ]
  },
  {
   "cell_type": "code",
   "execution_count": 8,
   "id": "5332cfab",
   "metadata": {},
   "outputs": [
    {
     "name": "stdout",
     "output_type": "stream",
     "text": [
      "   product_id\n",
      "1           1\n",
      "3           3\n"
     ]
    }
   ],
   "source": [
    "result = find_products(products)\n",
    "print(result)"
   ]
  },
  {
   "cell_type": "code",
   "execution_count": null,
   "id": "f4f68ae6",
   "metadata": {},
   "outputs": [],
   "source": [
    "import pandas as pd\n",
    "\n",
    "# Create Customers table\n",
    "customers = pd.DataFrame({\n",
    "    'id': [1, 2, 3, 4],\n",
    "    'name': ['Joe', 'Henry', 'Sam', 'Max']\n",
    "})\n",
    "\n",
    "# Create Orders table\n",
    "orders = pd.DataFrame({\n",
    "    'id': [1, 2],\n",
    "    'customerId': [3, 1]\n",
    "})\n",
    "\n"
   ]
  },
  {
   "cell_type": "code",
   "execution_count": null,
   "id": "f608fe30",
   "metadata": {},
   "outputs": [],
   "source": [
    "import pandas as pd\n",
    "\n",
    "def find_customers(customers: pd.DataFrame, orders: pd.DataFrame) -> pd.DataFrame:\n",
    "    merged = customers.merge(orders, left_on='id', right_on='customerId', how='left')\n",
    "    result = merged[merged['customerId'].isnull()][['name']]\n",
    "    result.columns = ['Customers']\n",
    "    return result\n"
   ]
  },
  {
   "cell_type": "code",
   "execution_count": 10,
   "id": "79e7cc61",
   "metadata": {},
   "outputs": [
    {
     "name": "stdout",
     "output_type": "stream",
     "text": [
      "   product_id\n",
      "1           1\n",
      "3           3\n"
     ]
    }
   ],
   "source": [
    "result = find_products(products)\n",
    "print(result)"
   ]
  },
  {
   "cell_type": "code",
   "execution_count": 11,
   "id": "b8acf1c5",
   "metadata": {},
   "outputs": [],
   "source": [
    "# Students table\n",
    "students = pd.DataFrame({\n",
    "    'id': [1, 2, 3, 4, 5],\n",
    "    'name': ['Alice', 'Brian', 'Carla', 'Derek', 'Eliza']\n",
    "})\n",
    "\n",
    "# Submissions table\n",
    "submissions = pd.DataFrame({\n",
    "    'id': [1, 2, 3, 4],\n",
    "    'studentId': [1, 3, 1, 5]\n",
    "})\n"
   ]
  },
  {
   "cell_type": "code",
   "execution_count": null,
   "id": "0012a2ae",
   "metadata": {},
   "outputs": [
    {
     "name": "stdout",
     "output_type": "stream",
     "text": [
      "  Students\n",
      "2    Brian\n",
      "4    Derek\n"
     ]
    }
   ],
   "source": [
    "def find_students(students: pd.DataFrame, submissions: pd.DataFrame) -> pd.DataFrame:\n",
    "    merged = students.merge(submissions, left_on = 'id', right_on = 'studentId', how='left')\n",
    "    #Filter where customerId is NaN \n",
    "    result = merged[merged['studentId'].isnull()][['name']]\n",
    "    result.columns = ['Students']\n",
    "    return result\n",
    "result = find_students(students, submissions)\n",
    "print(result)"
   ]
  },
  {
   "cell_type": "markdown",
   "id": "250b07e3",
   "metadata": {},
   "source": [
    "Inner Join: Keeps only rows that exist in both tables.\n",
    "\n",
    "Left Join: Keeps all rows from the left table, and fills in NaN (or NULL in SQL) when there is no match on the right.\n",
    "\n"
   ]
  }
 ],
 "metadata": {
  "kernelspec": {
   "display_name": "Python 3",
   "language": "python",
   "name": "python3"
  },
  "language_info": {
   "codemirror_mode": {
    "name": "ipython",
    "version": 3
   },
   "file_extension": ".py",
   "mimetype": "text/x-python",
   "name": "python",
   "nbconvert_exporter": "python",
   "pygments_lexer": "ipython3",
   "version": "3.12.2"
  }
 },
 "nbformat": 4,
 "nbformat_minor": 5
}
