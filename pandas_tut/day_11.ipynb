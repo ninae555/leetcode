{
 "cells": [
  {
   "cell_type": "markdown",
   "id": "3382ae95",
   "metadata": {},
   "source": [
    "196. Delete Duplicate Emails\n",
    "\n",
    "Table: Person\n",
    "\n",
    "+-------------+---------+\n",
    "| Column Name | Type    |\n",
    "+-------------+---------+\n",
    "| id          | int     |\n",
    "| email       | varchar |\n",
    "+-------------+---------+\n",
    "id is the primary key (column with unique values) for this table.\n",
    "Each row of this table contains an email. The emails will not contain uppercase letters.\n",
    " \n",
    "\n",
    "Write a solution to delete all duplicate emails, keeping only one unique email with the smallest id.\n",
    "\n",
    "For SQL users, please note that you are supposed to write a DELETE statement and not a SELECT one.\n",
    "\n",
    "For Pandas users, please note that you are supposed to modify Person in place.\n",
    "\n",
    "After running your script, the answer shown is the Person table. The driver will first compile and run your piece of code and then show the Person table. The final order of the Person table does not matter.\n",
    "\n",
    "The result format is in the following example.\n",
    "\n",
    " "
   ]
  },
  {
   "cell_type": "code",
   "execution_count": 2,
   "id": "52f4bdcf",
   "metadata": {},
   "outputs": [],
   "source": [
    "import pandas as pd\n",
    "\n",
    "person = pd.DataFrame({\n",
    "    'id': [1, 2, 3],\n",
    "    'email': ['john@example.com', 'bob@example.com', 'john@example.com']\n",
    "})"
   ]
  },
  {
   "cell_type": "code",
   "execution_count": 3,
   "id": "08910604",
   "metadata": {},
   "outputs": [],
   "source": [
    "\n",
    "\n",
    "def delete_duplicate_emails(person: pd.DataFrame) -> None:\n",
    "    person.sort_values(by='id', inplace=True)\n",
    "    duplicate_ids = person[person.duplicated(subset='email', keep='first')].index\n",
    "    person.drop(index=duplicate_ids, inplace=True)"
   ]
  },
  {
   "cell_type": "code",
   "execution_count": 3,
   "id": "eaa1b2f5",
   "metadata": {},
   "outputs": [
    {
     "name": "stdout",
     "output_type": "stream",
     "text": [
      "None\n"
     ]
    }
   ],
   "source": [
    "print(delete_duplicate_emails(person))"
   ]
  },
  {
   "cell_type": "code",
   "execution_count": 5,
   "id": "b2cff07a",
   "metadata": {},
   "outputs": [
    {
     "name": "stdout",
     "output_type": "stream",
     "text": [
      "   id     name\n",
      "1   1    Alice\n",
      "2   2      Bob\n",
      "0   3  Charlie\n"
     ]
    }
   ],
   "source": [
    "df = pd.DataFrame({\n",
    "    \"id\": [3, 1, 2],\n",
    "    \"name\": [\"Charlie\", \"Alice\", \"Bob\"]\n",
    "})\n",
    "\n",
    "sorted_df = df.sort_values(by='id')\n",
    "\n",
    "print(sorted_df)"
   ]
  },
  {
   "cell_type": "code",
   "execution_count": 7,
   "id": "16355b34",
   "metadata": {},
   "outputs": [
    {
     "name": "stdout",
     "output_type": "stream",
     "text": [
      "ids:    id     name\n",
      "0   3  Charlie\n",
      "2   2      Bob\n",
      "1   1    Alice\n",
      "names:    id     name\n",
      "0   3  Charlie\n",
      "2   2      Bob\n",
      "1   1    Alice\n"
     ]
    }
   ],
   "source": [
    "#descending\n",
    "sorted_df = df.sort_values(by='id', ascending=False)\n",
    "\n",
    "print(f\"ids: {sorted_df}\")\n",
    "\n",
    "sorted_df_names = df.sort_values(by='name', ascending=False)\n",
    "print(f\"names: {sorted_df_names}\")\n"
   ]
  },
  {
   "cell_type": "code",
   "execution_count": 12,
   "id": "2f584f19",
   "metadata": {},
   "outputs": [
    {
     "name": "stdout",
     "output_type": "stream",
     "text": [
      "     email\n",
      "0  a@b.com\n",
      "1  b@c.com\n",
      "2  a@b.com\n",
      "3  d@e.com\n",
      "<class 'pandas.core.frame.DataFrame'>\n",
      "0    a@b.com\n",
      "1    b@c.com\n",
      "2    a@b.com\n",
      "3    d@e.com\n",
      "Name: email, dtype: object\n",
      "<class 'pandas.core.series.Series'>\n"
     ]
    }
   ],
   "source": [
    "df = pd.DataFrame({\n",
    "    \"id\": [1, 2, 3, 4],\n",
    "    \"email\": [\"a@b.com\", \"b@c.com\", \"a@b.com\", \"d@e.com\"]\n",
    "})\n",
    "\n",
    "\n",
    "#Dataframe\n",
    "emails_df = df[['email']]\n",
    "print(emails_df)\n",
    "print(type(emails_df))\n",
    "\n",
    "\n",
    "#Series\n",
    "emails = df['email']\n",
    "print(emails)\n",
    "print(type(emails))"
   ]
  },
  {
   "cell_type": "code",
   "execution_count": 34,
   "id": "b73373b3",
   "metadata": {},
   "outputs": [],
   "source": [
    "df = pd.DataFrame({\n",
    "    \"id\": [1, 2, 3, 4],\n",
    "    \"email\": [\"a@b.com\", \"b@c.com\", \"a@b.com\", \"d@e.com\"]\n",
    "})\n"
   ]
  },
  {
   "cell_type": "code",
   "execution_count": 39,
   "id": "5e65b7d6",
   "metadata": {},
   "outputs": [],
   "source": [
    "def keep_duplicate_emails(df: pd.DataFrame) -> pd.DataFrame:\n",
    "    df = df.sort_values(by=\"id\")\n",
    "    df = df.duplicated(subset=\"email\", keep=False)\n",
    "    return df\n"
   ]
  },
  {
   "cell_type": "code",
   "execution_count": 41,
   "id": "48e2ecc9",
   "metadata": {},
   "outputs": [
    {
     "name": "stdout",
     "output_type": "stream",
     "text": [
      "0     True\n",
      "1    False\n",
      "2     True\n",
      "3    False\n",
      "dtype: bool\n"
     ]
    }
   ],
   "source": [
    "\n",
    "print(keep_duplicate_emails(df))"
   ]
  },
  {
   "cell_type": "code",
   "execution_count": 46,
   "id": "392548b7",
   "metadata": {},
   "outputs": [],
   "source": [
    "def keep_first_emails(df: pd.DataFrame) -> pd.DataFrame:\n",
    "    df = df.sort_values(by=\"id\", ascending = True)\n",
    "    df= df.drop_duplicates(subset=\"email\", keep= \"first\")\n",
    "    return df"
   ]
  },
  {
   "cell_type": "code",
   "execution_count": 47,
   "id": "0cccb349",
   "metadata": {},
   "outputs": [
    {
     "name": "stdout",
     "output_type": "stream",
     "text": [
      "   id    email\n",
      "0   1  a@b.com\n",
      "1   2  b@c.com\n",
      "3   4  d@e.com\n"
     ]
    }
   ],
   "source": [
    "print(keep_first_emails(df))"
   ]
  }
 ],
 "metadata": {
  "kernelspec": {
   "display_name": "Python 3",
   "language": "python",
   "name": "python3"
  },
  "language_info": {
   "codemirror_mode": {
    "name": "ipython",
    "version": 3
   },
   "file_extension": ".py",
   "mimetype": "text/x-python",
   "name": "python",
   "nbconvert_exporter": "python",
   "pygments_lexer": "ipython3",
   "version": "3.12.2"
  }
 },
 "nbformat": 4,
 "nbformat_minor": 5
}
