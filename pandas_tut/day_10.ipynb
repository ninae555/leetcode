{
 "cells": [
  {
   "cell_type": "markdown",
   "id": "f8acb0ae",
   "metadata": {},
   "source": [
    "easy questions review"
   ]
  },
  {
   "cell_type": "code",
   "execution_count": 2,
   "id": "f1605039",
   "metadata": {},
   "outputs": [],
   "source": [
    "\n",
    "import pandas as pd\n",
    "\n",
    "data = [\n",
    "    {\"article_id\": 1, \"author_id\": 3, \"viewer_id\": 5, \"view_date\": \"2019-08-01\"},\n",
    "    {\"article_id\": 1, \"author_id\": 3, \"viewer_id\": 6, \"view_date\": \"2019-08-02\"},\n",
    "    {\"article_id\": 2, \"author_id\": 7, \"viewer_id\": 7, \"view_date\": \"2019-08-01\"},\n",
    "    {\"article_id\": 2, \"author_id\": 7, \"viewer_id\": 6, \"view_date\": \"2019-08-02\"},\n",
    "    {\"article_id\": 4, \"author_id\": 7, \"viewer_id\": 1, \"view_date\": \"2019-07-22\"},\n",
    "    {\"article_id\": 3, \"author_id\": 4, \"viewer_id\": 4, \"view_date\": \"2019-07-21\"},\n",
    "    {\"article_id\": 3, \"author_id\": 4, \"viewer_id\": 4, \"view_date\": \"2019-07-21\"},\n",
    "]\n",
    "\n",
    "views = pd.DataFrame(data)\n",
    "\n"
   ]
  },
  {
   "cell_type": "code",
   "execution_count": 5,
   "id": "7a91cc1c",
   "metadata": {},
   "outputs": [],
   "source": [
    "def article_views(views: pd.DataFrame) -> pd.DataFrame:\n",
    "    \"\"\"\n",
    "    Returns a a DataFrame thatshows which authors viwed their own articles\n",
    "    \"\"\"\n",
    "    result = views[views[\"author_id\"] == views[\"viewer_id\"]]\n",
    "    result = result.drop_duplicates(subset=\"article_id\").rename(columns={\"author_id\":\"id\"}).sort_values(by=\"id\", ascending=True)\n",
    "\n",
    "    return result['id']"
   ]
  },
  {
   "cell_type": "code",
   "execution_count": 6,
   "id": "43aaeb83",
   "metadata": {},
   "outputs": [
    {
     "name": "stdout",
     "output_type": "stream",
     "text": [
      "5    4\n",
      "2    7\n",
      "Name: id, dtype: int64\n"
     ]
    }
   ],
   "source": [
    "print(article_views(views))"
   ]
  }
 ],
 "metadata": {
  "kernelspec": {
   "display_name": "Python 3",
   "language": "python",
   "name": "python3"
  },
  "language_info": {
   "codemirror_mode": {
    "name": "ipython",
    "version": 3
   },
   "file_extension": ".py",
   "mimetype": "text/x-python",
   "name": "python",
   "nbconvert_exporter": "python",
   "pygments_lexer": "ipython3",
   "version": "3.12.2"
  }
 },
 "nbformat": 4,
 "nbformat_minor": 5
}
