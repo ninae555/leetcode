{
 "cells": [
  {
   "cell_type": "markdown",
   "id": "dbb760a5",
   "metadata": {},
   "source": [
    "LeetCode Problem Name: Immediate Food Delivery I (Problem #1173)\n",
    "\n",
    "Problem Statement:\n",
    "\n",
    "Write an pandas function to find the percentage of immediate food delivery orders. An immediate order is a delivery that is made on the same day the order was placed.\n",
    "\n",
    "Return the result as a percentage rounded to 2 decimal places."
   ]
  },
  {
   "cell_type": "code",
   "execution_count": 1,
   "id": "1ba997b6",
   "metadata": {},
   "outputs": [],
   "source": [
    "import pandas as pd\n",
    "\n",
    "delivery = pd.DataFrame({\n",
    "    'delivery_id': [1, 2, 3, 4, 5],\n",
    "    'customer_id': [101, 102, 103, 104, 105],\n",
    "    'order_date': pd.to_datetime(['2024-05-01', '2024-05-02', '2024-05-03', '2024-05-04', '2024-05-05']),\n",
    "    'customer_pref_delivery_date': pd.to_datetime(['2024-05-01', '2024-05-03', '2024-05-03', '2024-05-04', '2024-05-07'])\n",
    "})\n"
   ]
  },
  {
   "cell_type": "code",
   "execution_count": 2,
   "id": "37805ec1",
   "metadata": {},
   "outputs": [
    {
     "name": "stdout",
     "output_type": "stream",
     "text": [
      "   delivery_id  customer_id order_date customer_pref_delivery_date\n",
      "0            1          101 2024-05-01                  2024-05-01\n",
      "1            2          102 2024-05-02                  2024-05-03\n",
      "2            3          103 2024-05-03                  2024-05-03\n",
      "3            4          104 2024-05-04                  2024-05-04\n",
      "4            5          105 2024-05-05                  2024-05-07\n"
     ]
    }
   ],
   "source": [
    "print(delivery)"
   ]
  },
  {
   "cell_type": "code",
   "execution_count": 27,
   "id": "170e43bd",
   "metadata": {},
   "outputs": [],
   "source": [
    "def immediate_delivery(delivery: pd.DataFrame) -> pd.DataFrame:\n",
    "    immediate = delivery[delivery['order_date'] == delivery['customer_pref_delivery_date']]\n",
    "    #get the count of immediate deliveries rows\n",
    "    part = immediate.shape[0]\n",
    "\n",
    "    #count of all rows\n",
    "    whole = delivery.shape[0]\n",
    "\n",
    "    ratio = round(part/whole * 100,2)\n",
    "\n",
    "\n",
    "    return pd.DataFrame(data = {\"immediate_percentage\" : [ratio]})"
   ]
  },
  {
   "cell_type": "code",
   "execution_count": 28,
   "id": "a1021cb3",
   "metadata": {},
   "outputs": [
    {
     "name": "stdout",
     "output_type": "stream",
     "text": [
      "   immediate_percentage\n",
      "0                  60.0\n"
     ]
    }
   ],
   "source": [
    "print(immediate_delivery(delivery))"
   ]
  }
 ],
 "metadata": {
  "kernelspec": {
   "display_name": "Python 3",
   "language": "python",
   "name": "python3"
  },
  "language_info": {
   "codemirror_mode": {
    "name": "ipython",
    "version": 3
   },
   "file_extension": ".py",
   "mimetype": "text/x-python",
   "name": "python",
   "nbconvert_exporter": "python",
   "pygments_lexer": "ipython3",
   "version": "3.12.2"
  }
 },
 "nbformat": 4,
 "nbformat_minor": 5
}
