{
 "cells": [
  {
   "cell_type": "code",
   "execution_count": 1,
   "metadata": {},
   "outputs": [],
   "source": [
    "import pandas as pd\n",
    "\n",
    "data = {\n",
    "    'patient_id': [1, 2,3,4,5],\n",
    "    'patient_name':['Daniel', 'Alice', 'Bob', 'George', 'Alain'],\n",
    "    'conditions': ['YFEV COUGH', '          ', 'DIAB100 MYOP', 'ACNE DIAB100', 'DIAB201']\n",
    "}\n",
    "\n",
    "patients = pd.DataFrame(data)"
   ]
  },
  {
   "cell_type": "code",
   "execution_count": null,
   "metadata": {},
   "outputs": [],
   "source": [
    "import pandas as pd\n",
    "\n",
    "def find_patients(patients: pd.DataFrame) -> pd.DataFrame:\n",
    "    return patients[patients['conditions'].str.contains(r'(^|\\s)DIAB1\\d*($|\\s)', na=False)]"
   ]
  },
  {
   "cell_type": "code",
   "execution_count": 9,
   "metadata": {},
   "outputs": [
    {
     "name": "stdout",
     "output_type": "stream",
     "text": [
      "   patient_id patient_name    conditions\n",
      "2           3          Bob  DIAB100 MYOP\n",
      "3           4       George  ACNE DIAB100\n"
     ]
    }
   ],
   "source": [
    "print(find_patients(patients))"
   ]
  },
  {
   "cell_type": "code",
   "execution_count": 8,
   "metadata": {},
   "outputs": [],
   "source": [
    "def find_patients(patients: pd.DataFrame) -> pd.DataFrame:\n",
    "    filtro = patients['conditions'].apply(\n",
    "        lambda conditions: any(condition.startswith('DIAB1') for condition in conditions.split())\n",
    "    )\n",
    "    return patients.loc[filtro]\n"
   ]
  }
 ],
 "metadata": {
  "kernelspec": {
   "display_name": "Python 3",
   "language": "python",
   "name": "python3"
  },
  "language_info": {
   "codemirror_mode": {
    "name": "ipython",
    "version": 3
   },
   "file_extension": ".py",
   "mimetype": "text/x-python",
   "name": "python",
   "nbconvert_exporter": "python",
   "pygments_lexer": "ipython3",
   "version": "3.12.2"
  }
 },
 "nbformat": 4,
 "nbformat_minor": 2
}
