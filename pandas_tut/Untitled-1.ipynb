{
 "cells": [
  {
   "cell_type": "code",
   "execution_count": 22,
   "metadata": {},
   "outputs": [],
   "source": [
    "import pandas as pd\n",
    "\n",
    "def find_customers(customers: pd.DataFrame, orders: pd.DataFrame) -> pd.DataFrame:\n",
    "    customerid = customers['id']\n",
    "\n",
    "    #find which customers have orders\n",
    "    customers_with_orders = orders['customerId'].unique()\n",
    "\n",
    "    #check who is in the order list\n",
    "    has_order = customerid.isin(customers_with_orders)\n",
    "\n",
    "    #flip it to find who does not have an order\n",
    "\n",
    "    no_order = ~has_order\n",
    "\n",
    "    #filter customers using logic\n",
    "\n",
    "    result = customers[no_order][['name']]\n",
    "    result.columns = ['Customers']\n",
    "\n",
    "    return result\n",
    "\n",
    "\n"
   ]
  },
  {
   "cell_type": "code",
   "execution_count": null,
   "metadata": {},
   "outputs": [],
   "source": [
    "import pandas as pd\n",
    "\n",
    "def find_customers(customers: pd.DataFrame, orders: pd.DataFrame) -> pd.DataFrame:\n",
    "    df = customers[~customers['id'].isin(orders['customerId'])].rename(columns={'name':'Customers'}) #“For each id in the customers table, is it not in the orders['customerId'] list?”\n",
    "    #print(df)\n",
    "    return df[['Customers']]"
   ]
  },
  {
   "cell_type": "code",
   "execution_count": 5,
   "metadata": {},
   "outputs": [],
   "source": [
    "customers_data = {\n",
    "    'id': [1, 2, 3, 4],\n",
    "    'name': ['Joe', 'Henry', 'Sam', 'Max']\n",
    "}\n",
    "customers = pd.DataFrame(customers_data)\n",
    "\n",
    "# Step 2: Create the Orders table\n",
    "orders_data = {\n",
    "    'id': [1, 2],\n",
    "    'customerId': [3, 1]\n",
    "}\n",
    "orders = pd.DataFrame(orders_data)\n"
   ]
  },
  {
   "cell_type": "code",
   "execution_count": 23,
   "metadata": {},
   "outputs": [
    {
     "data": {
      "text/html": [
       "<div>\n",
       "<style scoped>\n",
       "    .dataframe tbody tr th:only-of-type {\n",
       "        vertical-align: middle;\n",
       "    }\n",
       "\n",
       "    .dataframe tbody tr th {\n",
       "        vertical-align: top;\n",
       "    }\n",
       "\n",
       "    .dataframe thead th {\n",
       "        text-align: right;\n",
       "    }\n",
       "</style>\n",
       "<table border=\"1\" class=\"dataframe\">\n",
       "  <thead>\n",
       "    <tr style=\"text-align: right;\">\n",
       "      <th></th>\n",
       "      <th>Customers</th>\n",
       "    </tr>\n",
       "  </thead>\n",
       "  <tbody>\n",
       "    <tr>\n",
       "      <th>1</th>\n",
       "      <td>Henry</td>\n",
       "    </tr>\n",
       "    <tr>\n",
       "      <th>3</th>\n",
       "      <td>Max</td>\n",
       "    </tr>\n",
       "  </tbody>\n",
       "</table>\n",
       "</div>"
      ],
      "text/plain": [
       "  Customers\n",
       "1     Henry\n",
       "3       Max"
      ]
     },
     "execution_count": 23,
     "metadata": {},
     "output_type": "execute_result"
    }
   ],
   "source": [
    "find_customers(customers, orders)\n",
    "\n"
   ]
  },
  {
   "cell_type": "markdown",
   "metadata": {},
   "source": [
    "A mask is just a Series of True and False values.\n",
    "\n",
    "It’s called a “mask” because it masks out (hides) the rows where the value is False, and shows the ones where it’s True.\n",
    "\n"
   ]
  }
 ],
 "metadata": {
  "kernelspec": {
   "display_name": "Python 3",
   "language": "python",
   "name": "python3"
  },
  "language_info": {
   "codemirror_mode": {
    "name": "ipython",
    "version": 3
   },
   "file_extension": ".py",
   "mimetype": "text/x-python",
   "name": "python",
   "nbconvert_exporter": "python",
   "pygments_lexer": "ipython3",
   "version": "3.12.2"
  }
 },
 "nbformat": 4,
 "nbformat_minor": 2
}
