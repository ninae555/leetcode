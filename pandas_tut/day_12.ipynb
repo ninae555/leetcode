{
 "cells": [
  {
   "cell_type": "code",
   "execution_count": null,
   "id": "e1f0cdc2",
   "metadata": {},
   "outputs": [],
   "source": [
    "def second_highest_salary(employee: pd.DataFrame) -> pd.DataFrame:\n",
    "    employee = employee.drop_duplicates(subset=['salary'])  # Step 1\n",
    "    if len(employee) < 2:                                    # Step 2\n",
    "        return pd.DataFrame({\"SecondHighestSalary\" : [None]})\n",
    "    else:\n",
    "        employee['sal_rnk'] = employee['salary'].rank(ascending=True)  # Step 3\n",
    "        sec_rank = employee[employee['sal_rnk'] == 2]                  # Step 4\n",
    "        sec_rank = sec_rank.rename(columns={'salary': 'SecondHighestSalary'})  # Step 5\n",
    "        return sec_rank[['SecondHighestSalary']]                       # Step 6\n"
   ]
  },
  {
   "cell_type": "markdown",
   "id": "d09edbe7",
   "metadata": {},
   "source": [
    "| Expression             | Type Returned      | Use Case                     |\n",
    "| ---------------------- | ------------------ | ---------------------------- |\n",
    "| `df['email']`          | Series             | Single column, no formatting |\n",
    "| `df[['email']]`        | DataFrame          | Keep DataFrame structure     |\n",
    "| `df[condition]`        | Filtered DataFrame | `df[df['salary'] > 10000]`   |\n",
    "| `df[['col1', 'col2']]` | DataFrame          | Select multiple columns      |\n"
   ]
  },
  {
   "cell_type": "markdown",
   "id": "a7d6c2ae",
   "metadata": {},
   "source": [
    "| Function                   | Purpose                                     | Syntax                                      |\n",
    "| -------------------------- | ------------------------------------------- | ------------------------------------------- |\n",
    "| `df.drop_duplicates()`     | Remove repeated rows or values              | `df.drop_duplicates(subset=['col'])`        |\n",
    "| `df.sort_values(by='col')` | Sort the DataFrame                          | `df.sort_values(by='col', ascending=False)` |\n",
    "| `df.duplicated()`          | Mark rows that are duplicates               | `df.duplicated(subset='email')`             |\n",
    "| `df['col'].rank()`         | Assign ranks based on values                | `df['salary'].rank()`                       |\n",
    "| `df.rename()`              | Rename columns                              | `df.rename(columns={'old': 'new'})`         |\n",
    "| `df[['col']]`              | Select column as **DataFrame** (not Series) | `df[['email']]`                             |\n",
    "| `df['col']`                | Select column as **Series**                 | `df['email']`                               |\n",
    "| `df[col == value]`         | Filter rows based on condition              | `df[df['id'] == 1]`                         |\n"
   ]
  }
 ],
 "metadata": {
  "language_info": {
   "name": "python"
  }
 },
 "nbformat": 4,
 "nbformat_minor": 5
}
